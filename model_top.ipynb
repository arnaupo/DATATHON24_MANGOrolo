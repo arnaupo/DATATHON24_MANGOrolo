{
 "cells": [
  {
   "cell_type": "code",
   "execution_count": 11,
   "metadata": {},
   "outputs": [],
   "source": [
    "import numpy as np\n",
    "import pandas as pd\n",
    "import cv2\n",
    "import os\n",
    "from sklearn.ensemble import RandomForestClassifier\n",
    "from sklearn.model_selection import train_test_split, GridSearchCV\n",
    "from sklearn.metrics import accuracy_score, classification_report\n",
    "from sklearn.preprocessing import OneHotEncoder\n",
    "from tqdm import tqdm\n"
   ]
  },
  {
   "cell_type": "code",
   "execution_count": 12,
   "metadata": {},
   "outputs": [],
   "source": [
    "# Assuming train_data is a pandas DataFrame with columns 'des_filename' and 'label'\n",
    "img_dir = './images/images/'\n",
    "train_data = pd.read_csv('./data/train_data.csv')"
   ]
  },
  {
   "cell_type": "code",
   "execution_count": 13,
   "metadata": {},
   "outputs": [],
   "source": [
    "def load_images_and_labels(images_path, train_data):\n",
    "    images = []\n",
    "    labels = []\n",
    "\n",
    "    # Crear rutas de las imágenes\n",
    "    image_paths = train_data['des_filename'].map(lambda x: os.path.join(images_path, x))\n",
    "    \n",
    "    # Iterar sobre imágenes y etiquetas\n",
    "    for image_path, label in tqdm(zip(image_paths, train_data[['silhouette_type', 'closure_placement', 'knit_structure','length_type','neck_lapel_type', 'sleeve_length_type', 'woven_structure']].values), \n",
    "                                  total=len(train_data), desc=\"Loading Images\"):\n",
    "        if os.path.exists(image_path):\n",
    "            img = cv2.imread(image_path, cv2.IMREAD_GRAYSCALE)\n",
    "            img = cv2.resize(img, (64, 64))  # Redimensionar las imágenes\n",
    "            images.append(img.flatten())\n",
    "            labels.append(label)\n",
    "\n",
    "    return np.array(images), np.array(labels)"
   ]
  },
  {
   "cell_type": "code",
   "execution_count": 14,
   "metadata": {},
   "outputs": [
    {
     "name": "stderr",
     "output_type": "stream",
     "text": [
      "Loading Images: 100%|██████████| 44244/44244 [00:28<00:00, 1552.58it/s]\n"
     ]
    }
   ],
   "source": [
    "train_data_new = train_data[train_data['type']=='Top']\n",
    "train_data = train_data_new[['des_filename','silhouette_type', 'closure_placement', 'knit_structure','length_type','neck_lapel_type', 'sleeve_length_type', 'woven_structure']]\n",
    "train_data = train_data[train_data['des_filename'] != '86_1208032_47001267-15_.jpg']\n",
    "\n",
    "X, y = load_images_and_labels(img_dir, train_data)\n",
    "\n",
    "encoder = OneHotEncoder()\n",
    "y_encoded = encoder.fit_transform(y).toarray()\n",
    "\n",
    "y_silhouette_type = y[:, 0]\n",
    "y_closure_placement = y[:, 1]\n",
    "y_knit = y[:, 2]\n",
    "y_length = y[:, 3]\n",
    "y_neck = y[:, 4]\n",
    "y_sleeve = y[:, 5]\n",
    "y_woven = y[:, 6]\n",
    "\n",
    "X_train, X_val, y_train_silhouette, y_val_silhouette = train_test_split(X, y_silhouette_type, test_size=0.2, random_state=42)\n",
    "_, _, y_train_closure, y_val_closure = train_test_split(X, y_closure_placement, test_size=0.2, random_state=42)\n",
    "_, _, y_train_knit, y_val_knit = train_test_split(X, y_knit, test_size=0.2, random_state=42)\n",
    "_, _, y_train_length, y_val_length = train_test_split(X, y_length, test_size=0.2, random_state=42)\n",
    "_, _, y_train_neck, y_val_neck = train_test_split(X, y_neck, test_size=0.2, random_state=42)\n",
    "_, _, y_train_sleeve, y_val_sleeve = train_test_split(X, y_sleeve, test_size=0.2, random_state=42)\n",
    "_, _, y_train_woven, y_val_woven = train_test_split(X, y_woven, test_size=0.2, random_state=42)\n",
    "\n",
    "rf = RandomForestClassifier(random_state=42)\n",
    "\n",
    "param_grid = {\n",
    "    'n_estimators': [100,],\n",
    "    'max_depth': [15],\n",
    "    'min_samples_split': [5],\n",
    "    'min_samples_leaf': [2],\n",
    "    'bootstrap': [True],\n",
    "    'criterion': ['entropy'],\n",
    "}"
   ]
  },
  {
   "cell_type": "code",
   "execution_count": 15,
   "metadata": {},
   "outputs": [],
   "source": [
    "def train_and_evaluate(X_train, y_train, X_val, y_val, category_name):\n",
    "\n",
    "    print(f\"Entrenando modelo para {category_name}...\")\n",
    "    grid_search = GridSearchCV(estimator=rf, param_grid=param_grid, \n",
    "                               cv=5, \n",
    "                               n_jobs=-1, \n",
    "                               verbose=2, \n",
    "                               scoring='accuracy')\n",
    "    \n",
    "    print(\"Fitting model with GridSearchCV...\")\n",
    "    grid_search.fit(X_train, y_train)\n",
    "\n",
    "    # Mejor modelo\n",
    "    best_model = grid_search.best_estimator_\n",
    "    best_params = grid_search.best_params_\n",
    "    print(f\"Mejores hiperparámetros para {category_name}: {best_params}\")\n",
    "\n",
    "    # Evaluar en conjunto de validación\n",
    "    y_pred = best_model.predict(X_val)\n",
    "    accuracy = accuracy_score(y_val, y_pred)\n",
    "    print(f\"Exactitud en {category_name}: {accuracy * 100:.2f}%\")\n",
    "    print(classification_report(y_val, y_pred))\n",
    "\n",
    "    return best_model"
   ]
  },
  {
   "cell_type": "code",
   "execution_count": 16,
   "metadata": {},
   "outputs": [
    {
     "name": "stdout",
     "output_type": "stream",
     "text": [
      "Entrenando modelo para Silhouette...\n",
      "Fitting model with GridSearchCV...\n",
      "Fitting 5 folds for each of 1 candidates, totalling 5 fits\n"
     ]
    },
    {
     "name": "stderr",
     "output_type": "stream",
     "text": [
      "c:\\Users\\Arnau\\AppData\\Local\\Programs\\Python\\Python311\\Lib\\site-packages\\sklearn\\model_selection\\_split.py:700: UserWarning: The least populated class in y has only 1 members, which is less than n_splits=5.\n",
      "  warnings.warn(\n"
     ]
    },
    {
     "name": "stdout",
     "output_type": "stream",
     "text": [
      "Mejores hiperparámetros para Silhouette: {'bootstrap': True, 'criterion': 'entropy', 'max_depth': 15, 'min_samples_leaf': 2, 'min_samples_split': 5, 'n_estimators': 100}\n",
      "Exactitud en Silhouette: 52.29%\n",
      "              precision    recall  f1-score   support\n",
      "\n",
      "          -1       0.73      0.33      0.45       919\n",
      "       Ancho       0.00      0.00      0.00         1\n",
      "       Evase       0.57      0.24      0.34       594\n",
      "      Halter       0.00      0.00      0.00         8\n",
      " Modern slim       1.00      0.30      0.46        10\n",
      "    Oversize       0.75      0.05      0.10       777\n",
      "       Recto       0.50      0.93      0.65      3801\n",
      "     Regular       0.56      0.21      0.30      1037\n",
      "     Relaxed       0.61      0.09      0.16       153\n",
      "        Slim       0.64      0.24      0.35      1546\n",
      "   Superslim       0.00      0.00      0.00         3\n",
      "\n",
      "    accuracy                           0.52      8849\n",
      "   macro avg       0.49      0.22      0.26      8849\n",
      "weighted avg       0.58      0.52      0.46      8849\n",
      "\n",
      "Entrenando modelo para Closure Placement...\n",
      "Fitting model with GridSearchCV...\n",
      "Fitting 5 folds for each of 1 candidates, totalling 5 fits\n"
     ]
    },
    {
     "name": "stderr",
     "output_type": "stream",
     "text": [
      "c:\\Users\\Arnau\\AppData\\Local\\Programs\\Python\\Python311\\Lib\\site-packages\\sklearn\\metrics\\_classification.py:1344: UndefinedMetricWarning: Precision and F-score are ill-defined and being set to 0.0 in labels with no predicted samples. Use `zero_division` parameter to control this behavior.\n",
      "  _warn_prf(average, modifier, msg_start, len(result))\n",
      "c:\\Users\\Arnau\\AppData\\Local\\Programs\\Python\\Python311\\Lib\\site-packages\\sklearn\\metrics\\_classification.py:1344: UndefinedMetricWarning: Precision and F-score are ill-defined and being set to 0.0 in labels with no predicted samples. Use `zero_division` parameter to control this behavior.\n",
      "  _warn_prf(average, modifier, msg_start, len(result))\n",
      "c:\\Users\\Arnau\\AppData\\Local\\Programs\\Python\\Python311\\Lib\\site-packages\\sklearn\\metrics\\_classification.py:1344: UndefinedMetricWarning: Precision and F-score are ill-defined and being set to 0.0 in labels with no predicted samples. Use `zero_division` parameter to control this behavior.\n",
      "  _warn_prf(average, modifier, msg_start, len(result))\n"
     ]
    },
    {
     "name": "stdout",
     "output_type": "stream",
     "text": [
      "Mejores hiperparámetros para Closure Placement: {'bootstrap': True, 'criterion': 'entropy', 'max_depth': 15, 'min_samples_leaf': 2, 'min_samples_split': 5, 'n_estimators': 100}\n",
      "Exactitud en Closure Placement: 59.91%\n",
      "                  precision    recall  f1-score   support\n",
      "\n",
      "              -1       0.62      0.82      0.71      3457\n",
      "Cierre Delantero       0.60      0.68      0.64      2633\n",
      "   Cierre Hombro       0.00      0.00      0.00        12\n",
      "  Cierre Trasero       0.52      0.08      0.15       402\n",
      "          Cuello       0.73      0.14      0.23       417\n",
      "         Lateral       0.80      0.03      0.05       157\n",
      "      Sin cierre       0.50      0.33      0.40      1771\n",
      "\n",
      "        accuracy                           0.60      8849\n",
      "       macro avg       0.54      0.30      0.31      8849\n",
      "    weighted avg       0.59      0.60      0.56      8849\n",
      "\n",
      "Entrenando modelo para Knit...\n",
      "Fitting model with GridSearchCV...\n",
      "Fitting 5 folds for each of 1 candidates, totalling 5 fits\n"
     ]
    },
    {
     "name": "stderr",
     "output_type": "stream",
     "text": [
      "c:\\Users\\Arnau\\AppData\\Local\\Programs\\Python\\Python311\\Lib\\site-packages\\sklearn\\metrics\\_classification.py:1344: UndefinedMetricWarning: Precision and F-score are ill-defined and being set to 0.0 in labels with no predicted samples. Use `zero_division` parameter to control this behavior.\n",
      "  _warn_prf(average, modifier, msg_start, len(result))\n",
      "c:\\Users\\Arnau\\AppData\\Local\\Programs\\Python\\Python311\\Lib\\site-packages\\sklearn\\metrics\\_classification.py:1344: UndefinedMetricWarning: Precision and F-score are ill-defined and being set to 0.0 in labels with no predicted samples. Use `zero_division` parameter to control this behavior.\n",
      "  _warn_prf(average, modifier, msg_start, len(result))\n",
      "c:\\Users\\Arnau\\AppData\\Local\\Programs\\Python\\Python311\\Lib\\site-packages\\sklearn\\metrics\\_classification.py:1344: UndefinedMetricWarning: Precision and F-score are ill-defined and being set to 0.0 in labels with no predicted samples. Use `zero_division` parameter to control this behavior.\n",
      "  _warn_prf(average, modifier, msg_start, len(result))\n"
     ]
    },
    {
     "name": "stdout",
     "output_type": "stream",
     "text": [
      "Mejores hiperparámetros para Knit: {'bootstrap': True, 'criterion': 'entropy', 'max_depth': 15, 'min_samples_leaf': 2, 'min_samples_split': 5, 'n_estimators': 100}\n",
      "Exactitud en Knit: 80.39%\n",
      "              precision    recall  f1-score   support\n",
      "\n",
      "          -1       0.81      1.00      0.89      7042\n",
      "Hecho a mano       0.00      0.00      0.00         6\n",
      "  Punto Fino       0.68      0.10      0.17       613\n",
      "Punto Grueso       0.00      0.00      0.00       221\n",
      " Punto Medio       0.43      0.01      0.02       318\n",
      "  Punto fino       0.51      0.07      0.12       335\n",
      "Punto grueso       0.67      0.02      0.03       120\n",
      " Punto medio       0.60      0.05      0.09       191\n",
      "     UNKNOWN       0.00      0.00      0.00         3\n",
      "\n",
      "    accuracy                           0.80      8849\n",
      "   macro avg       0.41      0.14      0.15      8849\n",
      "weighted avg       0.75      0.80      0.73      8849\n",
      "\n",
      "Entrenando modelo para Length...\n",
      "Fitting model with GridSearchCV...\n",
      "Fitting 5 folds for each of 1 candidates, totalling 5 fits\n"
     ]
    },
    {
     "name": "stderr",
     "output_type": "stream",
     "text": [
      "c:\\Users\\Arnau\\AppData\\Local\\Programs\\Python\\Python311\\Lib\\site-packages\\sklearn\\metrics\\_classification.py:1344: UndefinedMetricWarning: Precision and F-score are ill-defined and being set to 0.0 in labels with no predicted samples. Use `zero_division` parameter to control this behavior.\n",
      "  _warn_prf(average, modifier, msg_start, len(result))\n",
      "c:\\Users\\Arnau\\AppData\\Local\\Programs\\Python\\Python311\\Lib\\site-packages\\sklearn\\metrics\\_classification.py:1344: UndefinedMetricWarning: Precision and F-score are ill-defined and being set to 0.0 in labels with no predicted samples. Use `zero_division` parameter to control this behavior.\n",
      "  _warn_prf(average, modifier, msg_start, len(result))\n",
      "c:\\Users\\Arnau\\AppData\\Local\\Programs\\Python\\Python311\\Lib\\site-packages\\sklearn\\metrics\\_classification.py:1344: UndefinedMetricWarning: Precision and F-score are ill-defined and being set to 0.0 in labels with no predicted samples. Use `zero_division` parameter to control this behavior.\n",
      "  _warn_prf(average, modifier, msg_start, len(result))\n",
      "c:\\Users\\Arnau\\AppData\\Local\\Programs\\Python\\Python311\\Lib\\site-packages\\sklearn\\model_selection\\_split.py:700: UserWarning: The least populated class in y has only 2 members, which is less than n_splits=5.\n",
      "  warnings.warn(\n"
     ]
    },
    {
     "name": "stdout",
     "output_type": "stream",
     "text": [
      "Mejores hiperparámetros para Length: {'bootstrap': True, 'criterion': 'entropy', 'max_depth': 15, 'min_samples_leaf': 2, 'min_samples_split': 5, 'n_estimators': 100}\n",
      "Exactitud en Length: 66.56%\n",
      "              precision    recall  f1-score   support\n",
      "\n",
      "          -1       0.65      0.49      0.56      1171\n",
      "  Asimétrico       0.00      0.00      0.00        10\n",
      "       Corto       0.75      0.44      0.56       908\n",
      "        Crop       0.63      0.17      0.27       494\n",
      "       Largo       0.71      0.44      0.55      1364\n",
      "        Maxi       0.00      0.00      0.00         6\n",
      "       Medio       0.91      0.06      0.12       162\n",
      "        Midi       0.88      0.03      0.05       255\n",
      "  Mini/Micro       0.00      0.00      0.00        14\n",
      "    Standard       0.65      0.95      0.77      4448\n",
      "   Tobillero       0.00      0.00      0.00         5\n",
      "Tres Cuartos       0.00      0.00      0.00        12\n",
      "\n",
      "    accuracy                           0.67      8849\n",
      "   macro avg       0.43      0.22      0.24      8849\n",
      "weighted avg       0.68      0.67      0.62      8849\n",
      "\n",
      "Entrenando modelo para Neck...\n",
      "Fitting model with GridSearchCV...\n",
      "Fitting 5 folds for each of 1 candidates, totalling 5 fits\n"
     ]
    },
    {
     "name": "stderr",
     "output_type": "stream",
     "text": [
      "c:\\Users\\Arnau\\AppData\\Local\\Programs\\Python\\Python311\\Lib\\site-packages\\sklearn\\metrics\\_classification.py:1344: UndefinedMetricWarning: Precision and F-score are ill-defined and being set to 0.0 in labels with no predicted samples. Use `zero_division` parameter to control this behavior.\n",
      "  _warn_prf(average, modifier, msg_start, len(result))\n",
      "c:\\Users\\Arnau\\AppData\\Local\\Programs\\Python\\Python311\\Lib\\site-packages\\sklearn\\metrics\\_classification.py:1344: UndefinedMetricWarning: Precision and F-score are ill-defined and being set to 0.0 in labels with no predicted samples. Use `zero_division` parameter to control this behavior.\n",
      "  _warn_prf(average, modifier, msg_start, len(result))\n",
      "c:\\Users\\Arnau\\AppData\\Local\\Programs\\Python\\Python311\\Lib\\site-packages\\sklearn\\metrics\\_classification.py:1344: UndefinedMetricWarning: Precision and F-score are ill-defined and being set to 0.0 in labels with no predicted samples. Use `zero_division` parameter to control this behavior.\n",
      "  _warn_prf(average, modifier, msg_start, len(result))\n",
      "c:\\Users\\Arnau\\AppData\\Local\\Programs\\Python\\Python311\\Lib\\site-packages\\sklearn\\model_selection\\_split.py:700: UserWarning: The least populated class in y has only 1 members, which is less than n_splits=5.\n",
      "  warnings.warn(\n"
     ]
    },
    {
     "name": "stdout",
     "output_type": "stream",
     "text": [
      "Mejores hiperparámetros para Neck: {'bootstrap': True, 'criterion': 'entropy', 'max_depth': 15, 'min_samples_leaf': 2, 'min_samples_split': 5, 'n_estimators': 100}\n",
      "Exactitud en Neck: 44.16%\n",
      "                    precision    recall  f1-score   support\n",
      "\n",
      "                -1       0.53      0.31      0.39       844\n",
      "   Alto/Envolvente       0.53      0.16      0.25       336\n",
      "        Asimétrico       0.88      0.15      0.26        46\n",
      "Babydoll/Peter Pan       0.00      0.00      0.00        21\n",
      "             Barca       0.00      0.00      0.00        63\n",
      "       Button Down       0.00      0.00      0.00         9\n",
      "              Caja       0.39      0.27      0.32       894\n",
      "          Camisero       0.44      0.42      0.43       867\n",
      "           Capucha       0.76      0.49      0.59       403\n",
      "          Chimenea       0.73      0.27      0.39        89\n",
      "             Cisne       0.60      0.05      0.08        66\n",
      "           Cruzado       0.50      0.03      0.06       130\n",
      "           Cutaway       0.00      0.00      0.00         5\n",
      "          Drapeado       0.00      0.00      0.00        35\n",
      "          Escotado       0.47      0.30      0.37       361\n",
      "   Espalda Abierta       0.00      0.00      0.00        19\n",
      "            Halter       0.33      0.06      0.10        51\n",
      "  Hawaiano/Bowling       0.35      0.10      0.16        59\n",
      "            Kimono       0.00      0.00      0.00        11\n",
      "               Mao       0.67      0.02      0.03       122\n",
      "      Off Shoulder       1.00      0.12      0.21        51\n",
      "     Palabra Honor       0.75      0.07      0.12        45\n",
      "          Panadero       1.00      0.03      0.06        31\n",
      "        Peak Lapel       0.38      0.06      0.11        79\n",
      "           Perkins       0.48      0.08      0.13       131\n",
      "              Pico       0.34      0.27      0.30       911\n",
      "              Polo       0.61      0.27      0.38       187\n",
      "           Redondo       0.41      0.87      0.55      2199\n",
      "           Regular       0.58      0.63      0.60       479\n",
      "             Shawl       1.00      0.27      0.43        11\n",
      "        Sin solapa       0.00      0.00      0.00         1\n",
      "           Smoking       0.00      0.00      0.00         5\n",
      "            Solapa       0.58      0.32      0.41       285\n",
      "         Waterfall       0.00      0.00      0.00         3\n",
      "\n",
      "          accuracy                           0.44      8849\n",
      "         macro avg       0.42      0.17      0.20      8849\n",
      "      weighted avg       0.47      0.44      0.40      8849\n",
      "\n",
      "Entrenando modelo para Sleeve...\n",
      "Fitting model with GridSearchCV...\n",
      "Fitting 5 folds for each of 1 candidates, totalling 5 fits\n"
     ]
    },
    {
     "name": "stderr",
     "output_type": "stream",
     "text": [
      "c:\\Users\\Arnau\\AppData\\Local\\Programs\\Python\\Python311\\Lib\\site-packages\\sklearn\\metrics\\_classification.py:1344: UndefinedMetricWarning: Precision and F-score are ill-defined and being set to 0.0 in labels with no predicted samples. Use `zero_division` parameter to control this behavior.\n",
      "  _warn_prf(average, modifier, msg_start, len(result))\n",
      "c:\\Users\\Arnau\\AppData\\Local\\Programs\\Python\\Python311\\Lib\\site-packages\\sklearn\\metrics\\_classification.py:1344: UndefinedMetricWarning: Precision and F-score are ill-defined and being set to 0.0 in labels with no predicted samples. Use `zero_division` parameter to control this behavior.\n",
      "  _warn_prf(average, modifier, msg_start, len(result))\n",
      "c:\\Users\\Arnau\\AppData\\Local\\Programs\\Python\\Python311\\Lib\\site-packages\\sklearn\\metrics\\_classification.py:1344: UndefinedMetricWarning: Precision and F-score are ill-defined and being set to 0.0 in labels with no predicted samples. Use `zero_division` parameter to control this behavior.\n",
      "  _warn_prf(average, modifier, msg_start, len(result))\n"
     ]
    },
    {
     "name": "stdout",
     "output_type": "stream",
     "text": [
      "Mejores hiperparámetros para Sleeve: {'bootstrap': True, 'criterion': 'entropy', 'max_depth': 15, 'min_samples_leaf': 2, 'min_samples_split': 5, 'n_estimators': 100}\n",
      "Exactitud en Sleeve: 71.24%\n",
      "               precision    recall  f1-score   support\n",
      "\n",
      "           -1       0.72      0.14      0.24       961\n",
      "        Corta       0.85      0.60      0.70      1787\n",
      "        Larga       0.70      0.99      0.82      4774\n",
      "    Sin Manga       0.58      0.34      0.43       605\n",
      "Tirante Ancho       0.68      0.08      0.14       244\n",
      " Tirante Fino       0.59      0.38      0.47       372\n",
      " Tres Cuartos       0.67      0.04      0.07       106\n",
      "\n",
      "     accuracy                           0.71      8849\n",
      "    macro avg       0.68      0.37      0.41      8849\n",
      " weighted avg       0.72      0.71      0.66      8849\n",
      "\n",
      "Entrenando modelo para Woven...\n",
      "Fitting model with GridSearchCV...\n",
      "Fitting 5 folds for each of 1 candidates, totalling 5 fits\n",
      "Mejores hiperparámetros para Woven: {'bootstrap': True, 'criterion': 'entropy', 'max_depth': 15, 'min_samples_leaf': 2, 'min_samples_split': 5, 'n_estimators': 100}\n",
      "Exactitud en Woven: 61.59%\n",
      "              precision    recall  f1-score   support\n",
      "\n",
      "          -1       0.66      0.56      0.61      3033\n",
      "    Elástico       1.00      0.06      0.11        18\n",
      "      Ligero       0.60      0.85      0.70      4078\n",
      "       Medio       0.56      0.18      0.27      1328\n",
      "      Pesado       0.60      0.11      0.19       392\n",
      "\n",
      "    accuracy                           0.62      8849\n",
      "   macro avg       0.68      0.35      0.38      8849\n",
      "weighted avg       0.62      0.62      0.58      8849\n",
      "\n"
     ]
    }
   ],
   "source": [
    "model_silhouette = train_and_evaluate(X_train, y_train_silhouette, X_val, y_val_silhouette, \"Silhouette\")\n",
    "model_closure_placement = train_and_evaluate(X_train, y_train_closure, X_val, y_val_closure, \"Closure Placement\")\n",
    "model_knit = train_and_evaluate(X_train, y_train_knit, X_val, y_val_knit, \"Knit\")\n",
    "model_length = train_and_evaluate(X_train, y_train_length, X_val, y_val_length, \"Length\")\n",
    "model_neck = train_and_evaluate(X_train, y_train_neck, X_val, y_val_neck, \"Neck\")\n",
    "model_sleeve = train_and_evaluate(X_train, y_train_sleeve, X_val, y_val_sleeve, \"Sleeve\")\n",
    "model_woven = train_and_evaluate(X_train, y_train_woven, X_val, y_val_woven, \"Woven\")\n",
    "\n",
    "# Hacer predicciones con los tres modelos\n",
    "pred_silhouette = model_silhouette.predict(X_val)\n",
    "pred_closure_placement = model_closure_placement.predict(X_val)\n",
    "pred_knit = model_knit.predict(X_val)\n",
    "pred_length = model_length.predict(X_val)\n",
    "pred_neck = model_neck.predict(X_val)\n",
    "pred_sleeve = model_sleeve.predict(X_val)\n",
    "pred_woven = model_woven.predict(X_val)\n",
    "\n",
    "# Combinar las predicciones en un DataFrame\n",
    "predictions = pd.DataFrame({\n",
    "    'silhouette_type': pred_silhouette,\n",
    "    'closure_placement': pred_closure_placement,\n",
    "    'knit_structure': pred_knit,\n",
    "    'length_type': pred_length,\n",
    "    'neck_lapel_length': pred_neck,\n",
    "    'sleeve_length_type': pred_sleeve,\n",
    "    'woven_structure': pred_woven\n",
    "})"
   ]
  },
  {
   "cell_type": "code",
   "execution_count": 17,
   "metadata": {},
   "outputs": [
    {
     "data": {
      "text/plain": [
       "['./models/tops/top_woven.joblib']"
      ]
     },
     "execution_count": 17,
     "metadata": {},
     "output_type": "execute_result"
    }
   ],
   "source": [
    "#save all models to ./models/tops using joblib\n",
    "from joblib import dump\n",
    "dump(model_silhouette, './models/tops/top_silhouette.joblib')\n",
    "dump(model_closure_placement, './models/tops/top_closure_placement.joblib')\n",
    "dump(model_knit, './models/tops/top_knit.joblib')\n",
    "dump(model_length, './models/tops/top_length.joblib')\n",
    "dump(model_neck, './models/tops/top_neck.joblib')\n",
    "dump(model_sleeve, './models/tops/top_sleeve.joblib')\n",
    "dump(model_woven, './models/tops/top_woven.joblib')\n",
    "\n"
   ]
  }
 ],
 "metadata": {
  "kernelspec": {
   "display_name": "Python 3",
   "language": "python",
   "name": "python3"
  },
  "language_info": {
   "codemirror_mode": {
    "name": "ipython",
    "version": 3
   },
   "file_extension": ".py",
   "mimetype": "text/x-python",
   "name": "python",
   "nbconvert_exporter": "python",
   "pygments_lexer": "ipython3",
   "version": "3.11.2"
  }
 },
 "nbformat": 4,
 "nbformat_minor": 2
}
