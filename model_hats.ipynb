{
 "cells": [
  {
   "cell_type": "code",
   "execution_count": 3,
   "metadata": {},
   "outputs": [],
   "source": [
    "import numpy as np\n",
    "import pandas as pd\n",
    "import cv2\n",
    "import os\n",
    "from sklearn.ensemble import RandomForestClassifier\n",
    "from sklearn.model_selection import train_test_split, GridSearchCV\n",
    "from sklearn.metrics import accuracy_score\n",
    "from sklearn.model_selection import cross_val_score\n",
    "from tqdm import tqdm"
   ]
  },
  {
   "cell_type": "code",
   "execution_count": 6,
   "metadata": {},
   "outputs": [],
   "source": [
    "# Assuming train_data is a pandas DataFrame with columns 'des_filename' and 'label'\n",
    "img_dir = './images/images/'\n",
    "train_data = pd.read_csv('./data/train_data.csv')"
   ]
  },
  {
   "cell_type": "code",
   "execution_count": 7,
   "metadata": {},
   "outputs": [
    {
     "data": {
      "text/html": [
       "<div>\n",
       "<style scoped>\n",
       "    .dataframe tbody tr th:only-of-type {\n",
       "        vertical-align: middle;\n",
       "    }\n",
       "\n",
       "    .dataframe tbody tr th {\n",
       "        vertical-align: top;\n",
       "    }\n",
       "\n",
       "    .dataframe thead th {\n",
       "        text-align: right;\n",
       "    }\n",
       "</style>\n",
       "<table border=\"1\" class=\"dataframe\">\n",
       "  <thead>\n",
       "    <tr style=\"text-align: right;\">\n",
       "      <th></th>\n",
       "      <th>cod_modelo_color</th>\n",
       "      <th>silhouette_type</th>\n",
       "      <th>closure_placement</th>\n",
       "      <th>heel_shape_type</th>\n",
       "      <th>knit_structure</th>\n",
       "      <th>length_type</th>\n",
       "      <th>neck_lapel_type</th>\n",
       "      <th>cane_height_type</th>\n",
       "      <th>sleeve_length_type</th>\n",
       "      <th>toecap_type</th>\n",
       "      <th>waist_type</th>\n",
       "      <th>woven_structure</th>\n",
       "      <th>type</th>\n",
       "      <th>des_filename</th>\n",
       "    </tr>\n",
       "  </thead>\n",
       "  <tbody>\n",
       "    <tr>\n",
       "      <th>0</th>\n",
       "      <td>85_1202950</td>\n",
       "      <td>Slim</td>\n",
       "      <td>-1</td>\n",
       "      <td>-1</td>\n",
       "      <td>Punto medio</td>\n",
       "      <td>Crop</td>\n",
       "      <td>Redondo</td>\n",
       "      <td>-1</td>\n",
       "      <td>Tirante Fino</td>\n",
       "      <td>-1</td>\n",
       "      <td>-1</td>\n",
       "      <td>-1</td>\n",
       "      <td>Top</td>\n",
       "      <td>85_1202950_37036315-99_B.jpg</td>\n",
       "    </tr>\n",
       "    <tr>\n",
       "      <th>1</th>\n",
       "      <td>85_1202950</td>\n",
       "      <td>Slim</td>\n",
       "      <td>-1</td>\n",
       "      <td>-1</td>\n",
       "      <td>Punto medio</td>\n",
       "      <td>Crop</td>\n",
       "      <td>Redondo</td>\n",
       "      <td>-1</td>\n",
       "      <td>Tirante Fino</td>\n",
       "      <td>-1</td>\n",
       "      <td>-1</td>\n",
       "      <td>-1</td>\n",
       "      <td>Top</td>\n",
       "      <td>85_1202950_37036315-99_.jpg</td>\n",
       "    </tr>\n",
       "    <tr>\n",
       "      <th>2</th>\n",
       "      <td>86_1217677</td>\n",
       "      <td>Oversize</td>\n",
       "      <td>-1</td>\n",
       "      <td>-1</td>\n",
       "      <td>-1</td>\n",
       "      <td>Standard</td>\n",
       "      <td>Redondo</td>\n",
       "      <td>-1</td>\n",
       "      <td>Corta</td>\n",
       "      <td>-1</td>\n",
       "      <td>-1</td>\n",
       "      <td>Ligero</td>\n",
       "      <td>Top</td>\n",
       "      <td>86_1217677_47024408-95_.jpg</td>\n",
       "    </tr>\n",
       "    <tr>\n",
       "      <th>3</th>\n",
       "      <td>86_1217677</td>\n",
       "      <td>Oversize</td>\n",
       "      <td>-1</td>\n",
       "      <td>-1</td>\n",
       "      <td>-1</td>\n",
       "      <td>Standard</td>\n",
       "      <td>Redondo</td>\n",
       "      <td>-1</td>\n",
       "      <td>Corta</td>\n",
       "      <td>-1</td>\n",
       "      <td>-1</td>\n",
       "      <td>Ligero</td>\n",
       "      <td>Top</td>\n",
       "      <td>86_1217677_47024408-95_B.jpg</td>\n",
       "    </tr>\n",
       "    <tr>\n",
       "      <th>4</th>\n",
       "      <td>84_1168477</td>\n",
       "      <td>Slim</td>\n",
       "      <td>Sin cierre</td>\n",
       "      <td>-1</td>\n",
       "      <td>Punto Fino</td>\n",
       "      <td>Standard</td>\n",
       "      <td>Barca</td>\n",
       "      <td>-1</td>\n",
       "      <td>Larga</td>\n",
       "      <td>-1</td>\n",
       "      <td>-1</td>\n",
       "      <td>-1</td>\n",
       "      <td>Top</td>\n",
       "      <td>84_1168477_27075766-99_B.jpg</td>\n",
       "    </tr>\n",
       "  </tbody>\n",
       "</table>\n",
       "</div>"
      ],
      "text/plain": [
       "  cod_modelo_color silhouette_type closure_placement heel_shape_type   \n",
       "0       85_1202950            Slim                -1              -1  \\\n",
       "1       85_1202950            Slim                -1              -1   \n",
       "2       86_1217677        Oversize                -1              -1   \n",
       "3       86_1217677        Oversize                -1              -1   \n",
       "4       84_1168477            Slim        Sin cierre              -1   \n",
       "\n",
       "  knit_structure length_type neck_lapel_type cane_height_type   \n",
       "0    Punto medio        Crop         Redondo               -1  \\\n",
       "1    Punto medio        Crop         Redondo               -1   \n",
       "2             -1    Standard         Redondo               -1   \n",
       "3             -1    Standard         Redondo               -1   \n",
       "4     Punto Fino    Standard           Barca               -1   \n",
       "\n",
       "  sleeve_length_type toecap_type waist_type woven_structure type   \n",
       "0       Tirante Fino          -1         -1              -1  Top  \\\n",
       "1       Tirante Fino          -1         -1              -1  Top   \n",
       "2              Corta          -1         -1          Ligero  Top   \n",
       "3              Corta          -1         -1          Ligero  Top   \n",
       "4              Larga          -1         -1              -1  Top   \n",
       "\n",
       "                   des_filename  \n",
       "0  85_1202950_37036315-99_B.jpg  \n",
       "1   85_1202950_37036315-99_.jpg  \n",
       "2   86_1217677_47024408-95_.jpg  \n",
       "3  86_1217677_47024408-95_B.jpg  \n",
       "4  84_1168477_27075766-99_B.jpg  "
      ]
     },
     "execution_count": 7,
     "metadata": {},
     "output_type": "execute_result"
    }
   ],
   "source": [
    "train_data.head()"
   ]
  },
  {
   "cell_type": "code",
   "execution_count": 8,
   "metadata": {},
   "outputs": [],
   "source": [
    "train_data_new = train_data[train_data['type']=='Hats']\n",
    "train_data = train_data_new[['des_filename','silhouette_type']]\n",
    "\n",
    "def load_images_and_labels(images_path, train_data):\n",
    "    images = []\n",
    "    labels = []\n",
    "\n",
    "    image_paths = train_data['des_filename'].map(lambda x: os.path.join(images_path, x)) \n",
    "    \n",
    "    for image_path, label in tqdm(zip(image_paths, train_data['silhouette_type']), total=len(train_data), desc=\"Loading Images\"):\n",
    "        if os.path.exists(image_path):\n",
    "            img = cv2.imread(image_path, cv2.IMREAD_GRAYSCALE)\n",
    "            img = cv2.resize(img, (64, 64))\n",
    "            img_flat = img.flatten()\n",
    "            images.append(img_flat)\n",
    "            labels.append(label)\n",
    "\n",
    "    return np.array(images), np.array(labels)"
   ]
  },
  {
   "cell_type": "code",
   "execution_count": 9,
   "metadata": {},
   "outputs": [
    {
     "name": "stderr",
     "output_type": "stream",
     "text": [
      "Loading Images: 100%|██████████| 162/162 [00:00<00:00, 196.75it/s]\n"
     ]
    },
    {
     "name": "stdout",
     "output_type": "stream",
     "text": [
      "Fitting model with GridSearchCV...\n",
      "Fitting 5 folds for each of 2304 candidates, totalling 11520 fits\n"
     ]
    },
    {
     "name": "stderr",
     "output_type": "stream",
     "text": [
      "c:\\Users\\Arnau\\AppData\\Local\\Programs\\Python\\Python311\\Lib\\site-packages\\sklearn\\ensemble\\_forest.py:424: FutureWarning: `max_features='auto'` has been deprecated in 1.1 and will be removed in 1.3. To keep the past behaviour, explicitly set `max_features='sqrt'` or remove this parameter as it is also the default value for RandomForestClassifiers and ExtraTreesClassifiers.\n",
      "  warn(\n"
     ]
    },
    {
     "name": "stdout",
     "output_type": "stream",
     "text": [
      "Best Hyperparameters: {'bootstrap': True, 'class_weight': None, 'criterion': 'entropy', 'max_depth': None, 'max_features': 'auto', 'min_samples_leaf': 1, 'min_samples_split': 2, 'n_estimators': 250}\n",
      "Test Set Accuracy with Best Model: 84.85%\n"
     ]
    }
   ],
   "source": [
    "X, y = load_images_and_labels(img_dir, train_data)\n",
    "\n",
    "X_train, X_val, y_train, y_val = train_test_split(X, y, test_size=0.2, random_state=42)\n",
    "\n",
    "rf = RandomForestClassifier(random_state=42)\n",
    "\n",
    "\n",
    "param_grid = {\n",
    "    'n_estimators': [100, 150, 200, 250],  # Number of trees in the forest\n",
    "    'max_depth': [None, 10, 20, 30, 40],   # Maximum depth of the trees\n",
    "    'min_samples_split': [2, 5, 10],       # Minimum number of samples required to split an internal node\n",
    "    'min_samples_leaf': [1, 2, 4],         # Minimum number of samples required to be at a leaf node\n",
    "    'bootstrap': [True, False],            # Whether bootstrap samples are used when building trees\n",
    "    'max_features': ['auto', 'sqrt', 'log2'],  # Number of features to consider when looking for the best split\n",
    "    'criterion': ['gini', 'entropy'],      # Function to measure the quality of a split\n",
    "    'class_weight': [None, 'balanced'],     # Weights associated with classes\n",
    "    'max_depth': [None, 10, 20, 30],   # Profundidad máxima de los árboles\n",
    "    'min_samples_split': [2, 5, 10],   # Mínimo número de muestras para dividir un nodo\n",
    "    'min_samples_leaf': [1, 2, 4],     # Mínimo número de muestras por nodo hoja\n",
    "    'bootstrap': [True, False],        # Usar muestreo con reemplazo o no\n",
    "    'max_features': ['auto', 'sqrt']  # Número máximo de características a considerar\n",
    "}\n",
    "\n",
    "grid_search = GridSearchCV(estimator=rf, param_grid=param_grid, \n",
    "                           cv=5,\n",
    "                           n_jobs=-1,\n",
    "                           verbose=2,\n",
    "                           scoring='accuracy')\n",
    "\n",
    "\n",
    "print(\"Fitting model with GridSearchCV...\")\n",
    "grid_search.fit(X_train, y_train)\n",
    "\n",
    "\n",
    "best_params = grid_search.best_params_\n",
    "best_model = grid_search.best_estimator_\n",
    "\n",
    "print(f\"Best Hyperparameters: {best_params}\")\n",
    "\n",
    "y_pred = best_model.predict(X_val)\n",
    "accuracy = accuracy_score(y_val, y_pred)\n",
    "\n",
    "print(f\"Test Set Accuracy with Best Model: {accuracy * 100:.2f}%\")\n"
   ]
  },
  {
   "cell_type": "code",
   "execution_count": 12,
   "metadata": {},
   "outputs": [
    {
     "name": "stdout",
     "output_type": "stream",
     "text": [
      "Model saved to ./models/hats.joblib\n"
     ]
    }
   ],
   "source": [
    "import joblib\n",
    "\n",
    "# Save the model to a file\n",
    "model_filename = './models/hats.joblib'\n",
    "joblib.dump(best_model, model_filename)\n",
    "\n",
    "print(f\"Model saved to {model_filename}\")"
   ]
  }
 ],
 "metadata": {
  "kernelspec": {
   "display_name": "Python 3",
   "language": "python",
   "name": "python3"
  },
  "language_info": {
   "codemirror_mode": {
    "name": "ipython",
    "version": 3
   },
   "file_extension": ".py",
   "mimetype": "text/x-python",
   "name": "python",
   "nbconvert_exporter": "python",
   "pygments_lexer": "ipython3",
   "version": "3.11.2"
  }
 },
 "nbformat": 4,
 "nbformat_minor": 2
}
