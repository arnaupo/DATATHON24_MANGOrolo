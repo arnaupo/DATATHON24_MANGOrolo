{
 "cells": [
  {
   "cell_type": "code",
   "execution_count": 1,
   "metadata": {},
   "outputs": [],
   "source": [
    "import numpy as np\n",
    "import pandas as pd\n",
    "import cv2\n",
    "import os\n",
    "from sklearn.ensemble import RandomForestClassifier\n",
    "from sklearn.model_selection import train_test_split, GridSearchCV\n",
    "from sklearn.metrics import accuracy_score, classification_report\n",
    "from sklearn.preprocessing import OneHotEncoder\n",
    "from tqdm import tqdm\n"
   ]
  },
  {
   "cell_type": "code",
   "execution_count": 57,
   "metadata": {},
   "outputs": [],
   "source": [
    "# Assuming train_data is a pandas DataFrame with columns 'des_filename' and 'label'\n",
    "img_dir = './images/images/'\n",
    "train_data = pd.read_csv('./data/train_data.csv')"
   ]
  },
  {
   "cell_type": "code",
   "execution_count": 50,
   "metadata": {},
   "outputs": [],
   "source": [
    "def load_images_and_labels(images_path, train_data):\n",
    "    images = []\n",
    "    labels = []\n",
    "\n",
    "    # Crear rutas de las imágenes\n",
    "    image_paths = train_data['des_filename'].map(lambda x: os.path.join(images_path, x))\n",
    "    \n",
    "    # Iterar sobre imágenes y etiquetas\n",
    "    for image_path, label in tqdm(zip(image_paths, train_data[['cane_height_type', 'heel_shape_type', 'toecap_type']].values), \n",
    "                                  total=len(train_data), desc=\"Loading Images\"):\n",
    "        if os.path.exists(image_path):\n",
    "            img = cv2.imread(image_path, cv2.IMREAD_GRAYSCALE)\n",
    "            img = cv2.resize(img, (64, 64))  # Redimensionar las imágenes\n",
    "            images.append(img.flatten())\n",
    "            labels.append(label)\n",
    "\n",
    "    return np.array(images), np.array(labels)"
   ]
  },
  {
   "cell_type": "code",
   "execution_count": 51,
   "metadata": {},
   "outputs": [
    {
     "name": "stderr",
     "output_type": "stream",
     "text": [
      "Loading Images: 100%|██████████| 2399/2399 [00:00<00:00, 4673.44it/s]\n"
     ]
    }
   ],
   "source": [
    "train_data_new = train_data[train_data['type']=='Shoes']\n",
    "train_data = train_data_new[['des_filename','cane_height_type','heel_shape_type','toecap_type']]\n",
    "\n",
    "X, y = load_images_and_labels(img_dir, train_data)\n",
    "\n",
    "encoder = OneHotEncoder()\n",
    "y_encoded = encoder.fit_transform(y).toarray()\n",
    "\n",
    "y_cane_height = y[:, 0]\n",
    "y_heel_shape = y[:, 1]\n",
    "y_toecap = y[:, 2]\n",
    "\n",
    "X_train, X_val, y_train_cane, y_val_cane = train_test_split(X, y_cane_height, test_size=0.2, random_state=42)\n",
    "_, _, y_train_heel, y_val_heel = train_test_split(X, y_heel_shape, test_size=0.2, random_state=42)\n",
    "_, _, y_train_toecap, y_val_toecap = train_test_split(X, y_toecap, test_size=0.2, random_state=42)\n",
    "\n",
    "rf = RandomForestClassifier(random_state=42)\n",
    "\n",
    "param_grid = {\n",
    "    'n_estimators': [100, 200],\n",
    "    'max_depth': [None, 20],\n",
    "    'min_samples_split': [2, 5],\n",
    "    'min_samples_leaf': [1, 2],\n",
    "    'bootstrap': [True],\n",
    "    'max_features': ['auto'],\n",
    "    'criterion': ['gini', 'entropy'],\n",
    "}"
   ]
  },
  {
   "cell_type": "code",
   "execution_count": 52,
   "metadata": {},
   "outputs": [],
   "source": [
    "def train_and_evaluate(X_train, y_train, X_val, y_val, category_name):\n",
    "\n",
    "    print(f\"Entrenando modelo para {category_name}...\")\n",
    "    grid_search = GridSearchCV(estimator=rf, param_grid=param_grid, \n",
    "                               cv=5, \n",
    "                               n_jobs=-1, \n",
    "                               verbose=2, \n",
    "                               scoring='accuracy')\n",
    "    \n",
    "    print(\"Fitting model with GridSearchCV...\")\n",
    "    grid_search.fit(X_train, y_train)\n",
    "\n",
    "    # Mejor modelo\n",
    "    best_model = grid_search.best_estimator_\n",
    "    best_params = grid_search.best_params_\n",
    "    print(f\"Mejores hiperparámetros para {category_name}: {best_params}\")\n",
    "\n",
    "    # Evaluar en conjunto de validación\n",
    "    y_pred = best_model.predict(X_val)\n",
    "    accuracy = accuracy_score(y_val, y_pred)\n",
    "    print(f\"Exactitud en {category_name}: {accuracy * 100:.2f}%\")\n",
    "    print(classification_report(y_val, y_pred))\n",
    "\n",
    "    return best_model"
   ]
  },
  {
   "cell_type": "code",
   "execution_count": null,
   "metadata": {},
   "outputs": [
    {
     "name": "stdout",
     "output_type": "stream",
     "text": [
      "Entrenando modelo para Cane Height...\n",
      "Fitting model with GridSearchCV...\n",
      "Fitting 5 folds for each of 32 candidates, totalling 160 fits\n"
     ]
    },
    {
     "name": "stderr",
     "output_type": "stream",
     "text": [
      "c:\\Users\\Arnau\\AppData\\Local\\Programs\\Python\\Python311\\Lib\\site-packages\\sklearn\\ensemble\\_forest.py:424: FutureWarning: `max_features='auto'` has been deprecated in 1.1 and will be removed in 1.3. To keep the past behaviour, explicitly set `max_features='sqrt'` or remove this parameter as it is also the default value for RandomForestClassifiers and ExtraTreesClassifiers.\n",
      "  warn(\n"
     ]
    },
    {
     "name": "stdout",
     "output_type": "stream",
     "text": [
      "Mejores hiperparámetros para Cane Height: {'bootstrap': True, 'criterion': 'entropy', 'max_depth': None, 'max_features': 'auto', 'min_samples_leaf': 2, 'min_samples_split': 2, 'n_estimators': 100}\n",
      "Exactitud en Cane Height: 88.75%\n",
      "                precision    recall  f1-score   support\n",
      "\n",
      "            -1       0.90      0.99      0.94       380\n",
      "          Alta       0.83      1.00      0.91        10\n",
      "          Baja       1.00      0.14      0.25         7\n",
      "        Bloque       0.91      0.83      0.87        24\n",
      "          Cuña       0.00      0.00      0.00        20\n",
      "Cuña abotinada       0.70      0.50      0.58        28\n",
      "         Media       0.83      0.45      0.59        11\n",
      "\n",
      "      accuracy                           0.89       480\n",
      "     macro avg       0.74      0.56      0.59       480\n",
      "  weighted avg       0.85      0.89      0.86       480\n",
      "\n",
      "Entrenando modelo para Heel Shape...\n",
      "Fitting model with GridSearchCV...\n",
      "Fitting 5 folds for each of 32 candidates, totalling 160 fits\n"
     ]
    },
    {
     "name": "stderr",
     "output_type": "stream",
     "text": [
      "c:\\Users\\Arnau\\AppData\\Local\\Programs\\Python\\Python311\\Lib\\site-packages\\sklearn\\ensemble\\_forest.py:424: FutureWarning: `max_features='auto'` has been deprecated in 1.1 and will be removed in 1.3. To keep the past behaviour, explicitly set `max_features='sqrt'` or remove this parameter as it is also the default value for RandomForestClassifiers and ExtraTreesClassifiers.\n",
      "  warn(\n"
     ]
    },
    {
     "name": "stdout",
     "output_type": "stream",
     "text": [
      "Mejores hiperparámetros para Heel Shape: {'bootstrap': True, 'criterion': 'entropy', 'max_depth': None, 'max_features': 'auto', 'min_samples_leaf': 1, 'min_samples_split': 2, 'n_estimators': 200}\n",
      "Exactitud en Heel Shape: 69.17%\n",
      "                                  precision    recall  f1-score   support\n",
      "\n",
      "                              -1       0.92      0.52      0.67        21\n",
      "                          Bloque       0.74      0.33      0.46        42\n",
      "                            Cuña       0.00      0.00      0.00         9\n",
      "                        De aguja       0.69      0.51      0.59        43\n",
      "                          Embudo       0.83      0.24      0.37        21\n",
      "                          Kitten       0.00      0.00      0.00         8\n",
      "                           Plano       0.68      0.99      0.81       279\n",
      "                      Plataforma       0.00      0.00      0.00        22\n",
      "Plataforma en la parte delantera       0.00      0.00      0.00         5\n",
      "                Plataforma plana       1.00      0.12      0.22         8\n",
      "                     Rectangular       0.60      0.21      0.32        14\n",
      "                        Trompeta       1.00      0.12      0.22         8\n",
      "\n",
      "                        accuracy                           0.69       480\n",
      "                       macro avg       0.54      0.25      0.30       480\n",
      "                    weighted avg       0.65      0.69      0.62       480\n",
      "\n",
      "Entrenando modelo para Toecap...\n",
      "Fitting model with GridSearchCV...\n",
      "Fitting 5 folds for each of 32 candidates, totalling 160 fits\n"
     ]
    },
    {
     "name": "stderr",
     "output_type": "stream",
     "text": [
      "c:\\Users\\Arnau\\AppData\\Local\\Programs\\Python\\Python311\\Lib\\site-packages\\sklearn\\metrics\\_classification.py:1344: UndefinedMetricWarning: Precision and F-score are ill-defined and being set to 0.0 in labels with no predicted samples. Use `zero_division` parameter to control this behavior.\n",
      "  _warn_prf(average, modifier, msg_start, len(result))\n",
      "c:\\Users\\Arnau\\AppData\\Local\\Programs\\Python\\Python311\\Lib\\site-packages\\sklearn\\metrics\\_classification.py:1344: UndefinedMetricWarning: Precision and F-score are ill-defined and being set to 0.0 in labels with no predicted samples. Use `zero_division` parameter to control this behavior.\n",
      "  _warn_prf(average, modifier, msg_start, len(result))\n",
      "c:\\Users\\Arnau\\AppData\\Local\\Programs\\Python\\Python311\\Lib\\site-packages\\sklearn\\metrics\\_classification.py:1344: UndefinedMetricWarning: Precision and F-score are ill-defined and being set to 0.0 in labels with no predicted samples. Use `zero_division` parameter to control this behavior.\n",
      "  _warn_prf(average, modifier, msg_start, len(result))\n",
      "c:\\Users\\Arnau\\AppData\\Local\\Programs\\Python\\Python311\\Lib\\site-packages\\sklearn\\ensemble\\_forest.py:424: FutureWarning: `max_features='auto'` has been deprecated in 1.1 and will be removed in 1.3. To keep the past behaviour, explicitly set `max_features='sqrt'` or remove this parameter as it is also the default value for RandomForestClassifiers and ExtraTreesClassifiers.\n",
      "  warn(\n"
     ]
    },
    {
     "name": "stdout",
     "output_type": "stream",
     "text": [
      "Mejores hiperparámetros para Toecap: {'bootstrap': True, 'criterion': 'entropy', 'max_depth': 20, 'max_features': 'auto', 'min_samples_leaf': 1, 'min_samples_split': 2, 'n_estimators': 200}\n",
      "Exactitud en Toecap: 70.62%\n",
      "              precision    recall  f1-score   support\n",
      "\n",
      "          -1       0.76      0.65      0.70        57\n",
      "     Abierta       0.63      0.35      0.45        34\n",
      "   Con punta       0.71      0.47      0.56        58\n",
      "    Cuadrada       0.94      0.25      0.40        64\n",
      "     Redonda       0.69      0.93      0.79       267\n",
      "\n",
      "    accuracy                           0.71       480\n",
      "   macro avg       0.75      0.53      0.58       480\n",
      "weighted avg       0.73      0.71      0.68       480\n",
      "\n",
      "Predicciones combinadas:\n",
      "  cane_height_type heel_shape_type toecap_type\n",
      "0               -1           Plano     Abierta\n",
      "1               -1           Plano     Redonda\n",
      "2               -1           Plano     Redonda\n",
      "3               -1           Plano     Redonda\n",
      "4               -1           Plano     Redonda\n"
     ]
    },
    {
     "ename": "ValueError",
     "evalue": "could not convert string to float: 'Cuña abotinada'",
     "output_type": "error",
     "traceback": [
      "\u001b[1;31m---------------------------------------------------------------------------\u001b[0m",
      "\u001b[1;31mValueError\u001b[0m                                Traceback (most recent call last)",
      "Cell \u001b[1;32mIn[53], line 21\u001b[0m\n\u001b[0;32m     18\u001b[0m \u001b[38;5;28mprint\u001b[39m(predictions\u001b[38;5;241m.\u001b[39mhead())\n\u001b[0;32m     20\u001b[0m \u001b[38;5;66;03m# Decodificar predicciones (si usaste OneHotEncoder)\u001b[39;00m\n\u001b[1;32m---> 21\u001b[0m decoded_cane_height \u001b[38;5;241m=\u001b[39m \u001b[43mencoder\u001b[49m\u001b[38;5;241;43m.\u001b[39;49m\u001b[43minverse_transform\u001b[49m\u001b[43m(\u001b[49m\u001b[43mpred_cane_height\u001b[49m\u001b[38;5;241;43m.\u001b[39;49m\u001b[43mreshape\u001b[49m\u001b[43m(\u001b[49m\u001b[38;5;241;43m-\u001b[39;49m\u001b[38;5;241;43m1\u001b[39;49m\u001b[43m,\u001b[49m\u001b[43m \u001b[49m\u001b[38;5;241;43m1\u001b[39;49m\u001b[43m)\u001b[49m\u001b[43m)\u001b[49m\n\u001b[0;32m     22\u001b[0m decoded_heel_shape \u001b[38;5;241m=\u001b[39m encoder\u001b[38;5;241m.\u001b[39minverse_transform(pred_heel_shape\u001b[38;5;241m.\u001b[39mreshape(\u001b[38;5;241m-\u001b[39m\u001b[38;5;241m1\u001b[39m, \u001b[38;5;241m1\u001b[39m))\n\u001b[0;32m     23\u001b[0m decoded_toecap \u001b[38;5;241m=\u001b[39m encoder\u001b[38;5;241m.\u001b[39minverse_transform(pred_toecap\u001b[38;5;241m.\u001b[39mreshape(\u001b[38;5;241m-\u001b[39m\u001b[38;5;241m1\u001b[39m, \u001b[38;5;241m1\u001b[39m))\n",
      "File \u001b[1;32mc:\\Users\\Arnau\\AppData\\Local\\Programs\\Python\\Python311\\Lib\\site-packages\\sklearn\\preprocessing\\_encoders.py:986\u001b[0m, in \u001b[0;36mOneHotEncoder.inverse_transform\u001b[1;34m(self, X)\u001b[0m\n\u001b[0;32m    963\u001b[0m \u001b[38;5;250m\u001b[39m\u001b[38;5;124;03m\"\"\"\u001b[39;00m\n\u001b[0;32m    964\u001b[0m \u001b[38;5;124;03mConvert the data back to the original representation.\u001b[39;00m\n\u001b[0;32m    965\u001b[0m \n\u001b[1;32m   (...)\u001b[0m\n\u001b[0;32m    983\u001b[0m \u001b[38;5;124;03m    Inverse transformed array.\u001b[39;00m\n\u001b[0;32m    984\u001b[0m \u001b[38;5;124;03m\"\"\"\u001b[39;00m\n\u001b[0;32m    985\u001b[0m check_is_fitted(\u001b[38;5;28mself\u001b[39m)\n\u001b[1;32m--> 986\u001b[0m X \u001b[38;5;241m=\u001b[39m \u001b[43mcheck_array\u001b[49m\u001b[43m(\u001b[49m\u001b[43mX\u001b[49m\u001b[43m,\u001b[49m\u001b[43m \u001b[49m\u001b[43maccept_sparse\u001b[49m\u001b[38;5;241;43m=\u001b[39;49m\u001b[38;5;124;43m\"\u001b[39;49m\u001b[38;5;124;43mcsr\u001b[39;49m\u001b[38;5;124;43m\"\u001b[39;49m\u001b[43m)\u001b[49m\n\u001b[0;32m    988\u001b[0m n_samples, _ \u001b[38;5;241m=\u001b[39m X\u001b[38;5;241m.\u001b[39mshape\n\u001b[0;32m    989\u001b[0m n_features \u001b[38;5;241m=\u001b[39m \u001b[38;5;28mlen\u001b[39m(\u001b[38;5;28mself\u001b[39m\u001b[38;5;241m.\u001b[39mcategories_)\n",
      "File \u001b[1;32mc:\\Users\\Arnau\\AppData\\Local\\Programs\\Python\\Python311\\Lib\\site-packages\\sklearn\\utils\\validation.py:879\u001b[0m, in \u001b[0;36mcheck_array\u001b[1;34m(array, accept_sparse, accept_large_sparse, dtype, order, copy, force_all_finite, ensure_2d, allow_nd, ensure_min_samples, ensure_min_features, estimator, input_name)\u001b[0m\n\u001b[0;32m    877\u001b[0m         array \u001b[38;5;241m=\u001b[39m xp\u001b[38;5;241m.\u001b[39mastype(array, dtype, copy\u001b[38;5;241m=\u001b[39m\u001b[38;5;28;01mFalse\u001b[39;00m)\n\u001b[0;32m    878\u001b[0m     \u001b[38;5;28;01melse\u001b[39;00m:\n\u001b[1;32m--> 879\u001b[0m         array \u001b[38;5;241m=\u001b[39m \u001b[43m_asarray_with_order\u001b[49m\u001b[43m(\u001b[49m\u001b[43marray\u001b[49m\u001b[43m,\u001b[49m\u001b[43m \u001b[49m\u001b[43morder\u001b[49m\u001b[38;5;241;43m=\u001b[39;49m\u001b[43morder\u001b[49m\u001b[43m,\u001b[49m\u001b[43m \u001b[49m\u001b[43mdtype\u001b[49m\u001b[38;5;241;43m=\u001b[39;49m\u001b[43mdtype\u001b[49m\u001b[43m,\u001b[49m\u001b[43m \u001b[49m\u001b[43mxp\u001b[49m\u001b[38;5;241;43m=\u001b[39;49m\u001b[43mxp\u001b[49m\u001b[43m)\u001b[49m\n\u001b[0;32m    880\u001b[0m \u001b[38;5;28;01mexcept\u001b[39;00m ComplexWarning \u001b[38;5;28;01mas\u001b[39;00m complex_warning:\n\u001b[0;32m    881\u001b[0m     \u001b[38;5;28;01mraise\u001b[39;00m \u001b[38;5;167;01mValueError\u001b[39;00m(\n\u001b[0;32m    882\u001b[0m         \u001b[38;5;124m\"\u001b[39m\u001b[38;5;124mComplex data not supported\u001b[39m\u001b[38;5;130;01m\\n\u001b[39;00m\u001b[38;5;132;01m{}\u001b[39;00m\u001b[38;5;130;01m\\n\u001b[39;00m\u001b[38;5;124m\"\u001b[39m\u001b[38;5;241m.\u001b[39mformat(array)\n\u001b[0;32m    883\u001b[0m     ) \u001b[38;5;28;01mfrom\u001b[39;00m \u001b[38;5;21;01mcomplex_warning\u001b[39;00m\n",
      "File \u001b[1;32mc:\\Users\\Arnau\\AppData\\Local\\Programs\\Python\\Python311\\Lib\\site-packages\\sklearn\\utils\\_array_api.py:185\u001b[0m, in \u001b[0;36m_asarray_with_order\u001b[1;34m(array, dtype, order, copy, xp)\u001b[0m\n\u001b[0;32m    182\u001b[0m     xp, _ \u001b[38;5;241m=\u001b[39m get_namespace(array)\n\u001b[0;32m    183\u001b[0m \u001b[38;5;28;01mif\u001b[39;00m xp\u001b[38;5;241m.\u001b[39m\u001b[38;5;18m__name__\u001b[39m \u001b[38;5;129;01min\u001b[39;00m {\u001b[38;5;124m\"\u001b[39m\u001b[38;5;124mnumpy\u001b[39m\u001b[38;5;124m\"\u001b[39m, \u001b[38;5;124m\"\u001b[39m\u001b[38;5;124mnumpy.array_api\u001b[39m\u001b[38;5;124m\"\u001b[39m}:\n\u001b[0;32m    184\u001b[0m     \u001b[38;5;66;03m# Use NumPy API to support order\u001b[39;00m\n\u001b[1;32m--> 185\u001b[0m     array \u001b[38;5;241m=\u001b[39m numpy\u001b[38;5;241m.\u001b[39masarray(array, order\u001b[38;5;241m=\u001b[39morder, dtype\u001b[38;5;241m=\u001b[39mdtype)\n\u001b[0;32m    186\u001b[0m     \u001b[38;5;28;01mreturn\u001b[39;00m xp\u001b[38;5;241m.\u001b[39masarray(array, copy\u001b[38;5;241m=\u001b[39mcopy)\n\u001b[0;32m    187\u001b[0m \u001b[38;5;28;01melse\u001b[39;00m:\n",
      "\u001b[1;31mValueError\u001b[0m: could not convert string to float: 'Cuña abotinada'"
     ]
    }
   ],
   "source": [
    "model_cane_height = train_and_evaluate(X_train, y_train_cane, X_val, y_val_cane, \"Cane Height\")\n",
    "model_heel_shape = train_and_evaluate(X_train, y_train_heel, X_val, y_val_heel, \"Heel Shape\")\n",
    "model_toecap = train_and_evaluate(X_train, y_train_toecap, X_val, y_val_toecap, \"Toecap\")\n",
    "\n",
    "# Hacer predicciones con los tres modelos\n",
    "pred_cane_height = model_cane_height.predict(X_val)\n",
    "pred_heel_shape = model_heel_shape.predict(X_val)\n",
    "pred_toecap = model_toecap.predict(X_val)\n",
    "\n",
    "# Combinar las predicciones en un DataFrame\n",
    "predictions = pd.DataFrame({\n",
    "    'cane_height_type': pred_cane_height,\n",
    "    'heel_shape_type': pred_heel_shape,\n",
    "    'toecap_type': pred_toecap\n",
    "})\n",
    "\n",
    "print(\"Predicciones combinadas:\")\n",
    "print(predictions.head())"
   ]
  },
  {
   "cell_type": "code",
   "execution_count": 55,
   "metadata": {},
   "outputs": [
    {
     "data": {
      "text/plain": [
       "['./models/shoes/model_toecap.joblib']"
      ]
     },
     "execution_count": 55,
     "metadata": {},
     "output_type": "execute_result"
    }
   ],
   "source": [
    "#save the three models\n",
    "import joblib\n",
    "joblib.dump(model_cane_height, './models/shoes/model_cane_height.joblib')\n",
    "joblib.dump(model_heel_shape, './models/shoes/model_heel_shape.joblib')\n",
    "joblib.dump(model_toecap, './models/shoes/model_toecap.joblib')"
   ]
  },
  {
   "cell_type": "code",
   "execution_count": null,
   "metadata": {},
   "outputs": [
    {
     "data": {
      "text/html": [
       "<div>\n",
       "<style scoped>\n",
       "    .dataframe tbody tr th:only-of-type {\n",
       "        vertical-align: middle;\n",
       "    }\n",
       "\n",
       "    .dataframe tbody tr th {\n",
       "        vertical-align: top;\n",
       "    }\n",
       "\n",
       "    .dataframe thead th {\n",
       "        text-align: right;\n",
       "    }\n",
       "</style>\n",
       "<table border=\"1\" class=\"dataframe\">\n",
       "  <thead>\n",
       "    <tr style=\"text-align: right;\">\n",
       "      <th></th>\n",
       "      <th>cane_height_type</th>\n",
       "      <th>heel_shape_type</th>\n",
       "      <th>toecap_type</th>\n",
       "    </tr>\n",
       "  </thead>\n",
       "  <tbody>\n",
       "    <tr>\n",
       "      <th>0</th>\n",
       "      <td>-1</td>\n",
       "      <td>Plano</td>\n",
       "      <td>Abierta</td>\n",
       "    </tr>\n",
       "    <tr>\n",
       "      <th>1</th>\n",
       "      <td>-1</td>\n",
       "      <td>Plano</td>\n",
       "      <td>Redonda</td>\n",
       "    </tr>\n",
       "    <tr>\n",
       "      <th>2</th>\n",
       "      <td>-1</td>\n",
       "      <td>Plano</td>\n",
       "      <td>Redonda</td>\n",
       "    </tr>\n",
       "    <tr>\n",
       "      <th>3</th>\n",
       "      <td>-1</td>\n",
       "      <td>Plano</td>\n",
       "      <td>Redonda</td>\n",
       "    </tr>\n",
       "    <tr>\n",
       "      <th>4</th>\n",
       "      <td>-1</td>\n",
       "      <td>Plano</td>\n",
       "      <td>Redonda</td>\n",
       "    </tr>\n",
       "    <tr>\n",
       "      <th>...</th>\n",
       "      <td>...</td>\n",
       "      <td>...</td>\n",
       "      <td>...</td>\n",
       "    </tr>\n",
       "    <tr>\n",
       "      <th>475</th>\n",
       "      <td>-1</td>\n",
       "      <td>Plano</td>\n",
       "      <td>Redonda</td>\n",
       "    </tr>\n",
       "    <tr>\n",
       "      <th>476</th>\n",
       "      <td>-1</td>\n",
       "      <td>Plano</td>\n",
       "      <td>Redonda</td>\n",
       "    </tr>\n",
       "    <tr>\n",
       "      <th>477</th>\n",
       "      <td>Cuña</td>\n",
       "      <td>Plano</td>\n",
       "      <td>Redonda</td>\n",
       "    </tr>\n",
       "    <tr>\n",
       "      <th>478</th>\n",
       "      <td>-1</td>\n",
       "      <td>Plano</td>\n",
       "      <td>Abierta</td>\n",
       "    </tr>\n",
       "    <tr>\n",
       "      <th>479</th>\n",
       "      <td>-1</td>\n",
       "      <td>Bloque</td>\n",
       "      <td>Cuadrada</td>\n",
       "    </tr>\n",
       "  </tbody>\n",
       "</table>\n",
       "<p>480 rows × 3 columns</p>\n",
       "</div>"
      ],
      "text/plain": [
       "    cane_height_type heel_shape_type toecap_type\n",
       "0                 -1           Plano     Abierta\n",
       "1                 -1           Plano     Redonda\n",
       "2                 -1           Plano     Redonda\n",
       "3                 -1           Plano     Redonda\n",
       "4                 -1           Plano     Redonda\n",
       "..               ...             ...         ...\n",
       "475               -1           Plano     Redonda\n",
       "476               -1           Plano     Redonda\n",
       "477             Cuña           Plano     Redonda\n",
       "478               -1           Plano     Abierta\n",
       "479               -1          Bloque    Cuadrada\n",
       "\n",
       "[480 rows x 3 columns]"
      ]
     },
     "execution_count": 56,
     "metadata": {},
     "output_type": "execute_result"
    }
   ],
   "source": [
    "predictions"
   ]
  }
 ],
 "metadata": {
  "kernelspec": {
   "display_name": "Python 3",
   "language": "python",
   "name": "python3"
  },
  "language_info": {
   "codemirror_mode": {
    "name": "ipython",
    "version": 3
   },
   "file_extension": ".py",
   "mimetype": "text/x-python",
   "name": "python",
   "nbconvert_exporter": "python",
   "pygments_lexer": "ipython3",
   "version": "3.11.2"
  }
 },
 "nbformat": 4,
 "nbformat_minor": 2
}
