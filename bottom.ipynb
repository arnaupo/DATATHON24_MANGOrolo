{
 "cells": [
  {
   "cell_type": "code",
   "execution_count": 1,
   "metadata": {},
   "outputs": [],
   "source": [
    "import numpy as np\n",
    "import pandas as pd\n",
    "import cv2\n",
    "import os\n",
    "from sklearn.ensemble import RandomForestClassifier\n",
    "from sklearn.model_selection import train_test_split, GridSearchCV\n",
    "from sklearn.metrics import accuracy_score, classification_report\n",
    "from sklearn.preprocessing import OneHotEncoder\n",
    "from tqdm import tqdm"
   ]
  },
  {
   "cell_type": "code",
   "execution_count": 2,
   "metadata": {},
   "outputs": [
    {
     "name": "stderr",
     "output_type": "stream",
     "text": [
      "Loading Images: 100%|██████████| 14678/14678 [00:03<00:00, 4362.96it/s]\n"
     ]
    }
   ],
   "source": [
    "img_dir = './images/images/'  \n",
    "train_data = pd.read_csv('./data/train_data.csv')\n",
    "\n",
    "train_data = train_data[train_data['type'] == 'Bottom']  \n",
    "\n",
    "def load_images_and_labels(images_path, train_data):\n",
    "    images = []\n",
    "    labels = []\n",
    "\n",
    "    image_paths = train_data['des_filename'].map(lambda x: os.path.join(images_path, x))\n",
    "\n",
    "    for image_path, label in tqdm(zip(image_paths, train_data[['silhouette_type','length_type','closure_placement', 'knit_structure', 'waist_type', 'woven_structure']].values), \n",
    "                                  total=len(train_data), desc=\"Loading Images\"):\n",
    "        if os.path.exists(image_path):\n",
    "            img = cv2.imread(image_path, cv2.IMREAD_GRAYSCALE)\n",
    "            img = cv2.resize(img, (64, 64)) \n",
    "            images.append(img.flatten())  \n",
    "            labels.append(label)\n",
    "\n",
    "    return np.array(images), np.array(labels)\n",
    "\n",
    "train_data = train_data[['des_filename','silhouette_type','length_type','closure_placement', 'knit_structure', 'waist_type', 'woven_structure']]\n",
    "\n",
    "X, y = load_images_and_labels(img_dir, train_data)\n",
    "\n",
    "encoder = OneHotEncoder()\n",
    "y_encoded = encoder.fit_transform(y).toarray()\n",
    "\n",
    "y_silhouette = y[:, 0]\n",
    "y_length = y[:, 1]\n",
    "y_closure = y[:, 2]\n",
    "y_knit = y[:, 3]\n",
    "y_waist = y[:, 4]\n",
    "y_woven = y[:, 5]\n",
    "\n"
   ]
  },
  {
   "cell_type": "code",
   "execution_count": 3,
   "metadata": {},
   "outputs": [],
   "source": [
    "X_train, X_val, y_train_silhouette, y_val_silhouette = train_test_split(X, y_silhouette, test_size=0.2, random_state=42)\n",
    "_, _, y_train_length, y_val_length = train_test_split(X, y_length, test_size=0.2, random_state=42)\n",
    "_, _, y_train_closure, y_val_closure = train_test_split(X, y_closure, test_size=0.2, random_state=42)\n",
    "_, _, y_train_knit, y_val_knit = train_test_split(X, y_knit, test_size=0.2, random_state=42)\n",
    "_, _, y_train_waist, y_val_waist = train_test_split(X, y_waist, test_size=0.2, random_state=42)\n",
    "_, _, y_train_woven, y_val_woven = train_test_split(X, y_woven, test_size=0.2, random_state=42)\n",
    "\n",
    "\n",
    "rf = RandomForestClassifier(random_state=42)\n",
    "\n",
    "param_grid = {\n",
    "    'n_estimators': [100],\n",
    "    'max_depth': [15],\n",
    "    'min_samples_split': [5],\n",
    "    'bootstrap': [True],\n",
    "    'max_features': ['auto'],\n",
    "    'criterion': ['gini', 'entropy'],\n",
    "}"
   ]
  },
  {
   "cell_type": "code",
   "execution_count": 4,
   "metadata": {},
   "outputs": [],
   "source": [
    "def train_and_evaluate(X_train, y_train, X_val, y_val, attribute_name):\n",
    "    print(f\"Training model for {attribute_name}...\")\n",
    "    grid_search = GridSearchCV(estimator=rf, param_grid=param_grid, \n",
    "                                cv=3, n_jobs=-1, verbose=1, scoring='accuracy')\n",
    "    grid_search.fit(X_train, y_train)\n",
    "\n",
    "    best_model = grid_search.best_estimator_\n",
    "    best_params = grid_search.best_params_\n",
    "    print(f\"Best hyperparameters for {attribute_name}: {best_params}\")\n",
    "\n",
    "    y_pred = best_model.predict(X_val)\n",
    "    accuracy = accuracy_score(y_val, y_pred)\n",
    "    print(f\"Accuracy for {attribute_name}: {accuracy * 100:.2f}%\")\n",
    "    print(classification_report(y_val, y_pred))\n",
    "\n",
    "    return best_model"
   ]
  },
  {
   "cell_type": "code",
   "execution_count": 5,
   "metadata": {},
   "outputs": [
    {
     "name": "stdout",
     "output_type": "stream",
     "text": [
      "Training model for Silhouette type...\n",
      "Fitting 3 folds for each of 2 candidates, totalling 6 fits\n"
     ]
    },
    {
     "name": "stderr",
     "output_type": "stream",
     "text": [
      "c:\\Users\\Arnau\\AppData\\Local\\Programs\\Python\\Python311\\Lib\\site-packages\\sklearn\\model_selection\\_split.py:700: UserWarning: The least populated class in y has only 1 members, which is less than n_splits=3.\n",
      "  warnings.warn(\n",
      "c:\\Users\\Arnau\\AppData\\Local\\Programs\\Python\\Python311\\Lib\\site-packages\\sklearn\\ensemble\\_forest.py:424: FutureWarning: `max_features='auto'` has been deprecated in 1.1 and will be removed in 1.3. To keep the past behaviour, explicitly set `max_features='sqrt'` or remove this parameter as it is also the default value for RandomForestClassifiers and ExtraTreesClassifiers.\n",
      "  warn(\n"
     ]
    },
    {
     "name": "stdout",
     "output_type": "stream",
     "text": [
      "Best hyperparameters for Silhouette type: {'bootstrap': True, 'criterion': 'entropy', 'max_depth': 15, 'max_features': 'auto', 'min_samples_split': 5, 'n_estimators': 100}\n",
      "Accuracy for Silhouette type: 42.00%\n",
      "                    precision    recall  f1-score   support\n",
      "\n",
      "                -1       0.47      0.30      0.37       352\n",
      "       5 Bolsillos       0.75      0.10      0.17        63\n",
      "Acampanado/Bootcut       1.00      0.26      0.41        43\n",
      "  Acampanado/Flare       0.50      0.20      0.29       114\n",
      "         Boyfriend       0.00      0.00      0.00         3\n",
      "             Cargo       0.00      0.00      0.00        52\n",
      "             Chino       1.00      0.19      0.32        16\n",
      "           Culotte       0.53      0.38      0.44       136\n",
      "             Evase       0.55      0.18      0.28       130\n",
      "            Jogger       0.63      0.31      0.42       142\n",
      "             Loose       0.00      0.00      0.00         6\n",
      "             Lápiz       0.00      0.00      0.00        27\n",
      "               Mom       0.80      0.19      0.31        63\n",
      "           Palazzo       0.47      0.09      0.15        81\n",
      "          Paperbag       1.00      0.03      0.06        35\n",
      "           Push Up       1.00      0.10      0.18        10\n",
      "             Recto       0.35      0.83      0.49       697\n",
      "           Regular       0.56      0.13      0.21       139\n",
      "            Skinny       0.65      0.35      0.45       162\n",
      "              Slim       0.46      0.61      0.52       453\n",
      "           Slouchy       0.43      0.09      0.14        69\n",
      "           Tapered       1.00      0.04      0.08        51\n",
      "          Wide leg       0.47      0.08      0.13        92\n",
      "\n",
      "          accuracy                           0.42      2936\n",
      "         macro avg       0.55      0.19      0.23      2936\n",
      "      weighted avg       0.50      0.42      0.37      2936\n",
      "\n",
      "Training model for Length type...\n",
      "Fitting 3 folds for each of 2 candidates, totalling 6 fits\n"
     ]
    },
    {
     "name": "stderr",
     "output_type": "stream",
     "text": [
      "c:\\Users\\Arnau\\AppData\\Local\\Programs\\Python\\Python311\\Lib\\site-packages\\sklearn\\metrics\\_classification.py:1344: UndefinedMetricWarning: Precision and F-score are ill-defined and being set to 0.0 in labels with no predicted samples. Use `zero_division` parameter to control this behavior.\n",
      "  _warn_prf(average, modifier, msg_start, len(result))\n",
      "c:\\Users\\Arnau\\AppData\\Local\\Programs\\Python\\Python311\\Lib\\site-packages\\sklearn\\metrics\\_classification.py:1344: UndefinedMetricWarning: Precision and F-score are ill-defined and being set to 0.0 in labels with no predicted samples. Use `zero_division` parameter to control this behavior.\n",
      "  _warn_prf(average, modifier, msg_start, len(result))\n",
      "c:\\Users\\Arnau\\AppData\\Local\\Programs\\Python\\Python311\\Lib\\site-packages\\sklearn\\metrics\\_classification.py:1344: UndefinedMetricWarning: Precision and F-score are ill-defined and being set to 0.0 in labels with no predicted samples. Use `zero_division` parameter to control this behavior.\n",
      "  _warn_prf(average, modifier, msg_start, len(result))\n",
      "c:\\Users\\Arnau\\AppData\\Local\\Programs\\Python\\Python311\\Lib\\site-packages\\sklearn\\ensemble\\_forest.py:424: FutureWarning: `max_features='auto'` has been deprecated in 1.1 and will be removed in 1.3. To keep the past behaviour, explicitly set `max_features='sqrt'` or remove this parameter as it is also the default value for RandomForestClassifiers and ExtraTreesClassifiers.\n",
      "  warn(\n"
     ]
    },
    {
     "name": "stdout",
     "output_type": "stream",
     "text": [
      "Best hyperparameters for Length type: {'bootstrap': True, 'criterion': 'gini', 'max_depth': 15, 'max_features': 'auto', 'min_samples_split': 5, 'n_estimators': 100}\n",
      "Accuracy for Length type: 59.60%\n"
     ]
    },
    {
     "name": "stderr",
     "output_type": "stream",
     "text": [
      "c:\\Users\\Arnau\\AppData\\Local\\Programs\\Python\\Python311\\Lib\\site-packages\\sklearn\\metrics\\_classification.py:1344: UndefinedMetricWarning: Precision and F-score are ill-defined and being set to 0.0 in labels with no predicted samples. Use `zero_division` parameter to control this behavior.\n",
      "  _warn_prf(average, modifier, msg_start, len(result))\n",
      "c:\\Users\\Arnau\\AppData\\Local\\Programs\\Python\\Python311\\Lib\\site-packages\\sklearn\\metrics\\_classification.py:1344: UndefinedMetricWarning: Precision and F-score are ill-defined and being set to 0.0 in labels with no predicted samples. Use `zero_division` parameter to control this behavior.\n",
      "  _warn_prf(average, modifier, msg_start, len(result))\n",
      "c:\\Users\\Arnau\\AppData\\Local\\Programs\\Python\\Python311\\Lib\\site-packages\\sklearn\\metrics\\_classification.py:1344: UndefinedMetricWarning: Precision and F-score are ill-defined and being set to 0.0 in labels with no predicted samples. Use `zero_division` parameter to control this behavior.\n",
      "  _warn_prf(average, modifier, msg_start, len(result))\n"
     ]
    },
    {
     "name": "stdout",
     "output_type": "stream",
     "text": [
      "              precision    recall  f1-score   support\n",
      "\n",
      "          -1       0.78      0.35      0.49       237\n",
      "       Capri       1.00      0.13      0.24        15\n",
      "       Corto       0.67      0.83      0.74       391\n",
      "        Crop       0.52      0.21      0.30       412\n",
      "       Largo       0.54      0.82      0.65       953\n",
      "        Maxi       0.00      0.00      0.00        19\n",
      "        Midi       0.60      0.41      0.49       137\n",
      "  Mini/Micro       0.00      0.00      0.00        42\n",
      "    Standard       0.65      0.62      0.63       669\n",
      "   Tobillero       1.00      0.02      0.03        61\n",
      "\n",
      "    accuracy                           0.60      2936\n",
      "   macro avg       0.58      0.34      0.36      2936\n",
      "weighted avg       0.60      0.60      0.56      2936\n",
      "\n",
      "Training model for Closure placement...\n",
      "Fitting 3 folds for each of 2 candidates, totalling 6 fits\n"
     ]
    },
    {
     "name": "stderr",
     "output_type": "stream",
     "text": [
      "c:\\Users\\Arnau\\AppData\\Local\\Programs\\Python\\Python311\\Lib\\site-packages\\sklearn\\ensemble\\_forest.py:424: FutureWarning: `max_features='auto'` has been deprecated in 1.1 and will be removed in 1.3. To keep the past behaviour, explicitly set `max_features='sqrt'` or remove this parameter as it is also the default value for RandomForestClassifiers and ExtraTreesClassifiers.\n",
      "  warn(\n"
     ]
    },
    {
     "name": "stdout",
     "output_type": "stream",
     "text": [
      "Best hyperparameters for Closure placement: {'bootstrap': True, 'criterion': 'entropy', 'max_depth': 15, 'max_features': 'auto', 'min_samples_split': 5, 'n_estimators': 100}\n",
      "Accuracy for Closure placement: 90.12%\n",
      "                  precision    recall  f1-score   support\n",
      "\n",
      "              -1       0.91      0.99      0.95      2635\n",
      "Cierre Delantero       0.00      0.00      0.00        53\n",
      "  Cierre Trasero       0.57      0.07      0.13        56\n",
      "         Lateral       0.17      0.01      0.02        77\n",
      "      Sin cierre       0.43      0.20      0.27       115\n",
      "\n",
      "        accuracy                           0.90      2936\n",
      "       macro avg       0.42      0.26      0.28      2936\n",
      "    weighted avg       0.85      0.90      0.87      2936\n",
      "\n",
      "Training model for Knit structure...\n",
      "Fitting 3 folds for each of 2 candidates, totalling 6 fits\n"
     ]
    },
    {
     "name": "stderr",
     "output_type": "stream",
     "text": [
      "c:\\Users\\Arnau\\AppData\\Local\\Programs\\Python\\Python311\\Lib\\site-packages\\sklearn\\ensemble\\_forest.py:424: FutureWarning: `max_features='auto'` has been deprecated in 1.1 and will be removed in 1.3. To keep the past behaviour, explicitly set `max_features='sqrt'` or remove this parameter as it is also the default value for RandomForestClassifiers and ExtraTreesClassifiers.\n",
      "  warn(\n"
     ]
    },
    {
     "name": "stdout",
     "output_type": "stream",
     "text": [
      "Best hyperparameters for Knit structure: {'bootstrap': True, 'criterion': 'entropy', 'max_depth': 15, 'max_features': 'auto', 'min_samples_split': 5, 'n_estimators': 100}\n",
      "Accuracy for Knit structure: 96.32%\n",
      "              precision    recall  f1-score   support\n",
      "\n",
      "          -1       0.96      1.00      0.98      2828\n",
      "Hecho a mano       0.00      0.00      0.00         1\n",
      "  Punto Fino       0.00      0.00      0.00        45\n",
      "Punto Grueso       0.00      0.00      0.00         9\n",
      " Punto Medio       0.00      0.00      0.00        20\n",
      "  Punto fino       0.00      0.00      0.00        19\n",
      "Punto grueso       0.00      0.00      0.00         4\n",
      " Punto medio       0.00      0.00      0.00        10\n",
      "\n",
      "    accuracy                           0.96      2936\n",
      "   macro avg       0.12      0.12      0.12      2936\n",
      "weighted avg       0.93      0.96      0.95      2936\n",
      "\n",
      "Training model for Waist type...\n",
      "Fitting 3 folds for each of 2 candidates, totalling 6 fits\n"
     ]
    },
    {
     "name": "stderr",
     "output_type": "stream",
     "text": [
      "c:\\Users\\Arnau\\AppData\\Local\\Programs\\Python\\Python311\\Lib\\site-packages\\sklearn\\metrics\\_classification.py:1344: UndefinedMetricWarning: Precision and F-score are ill-defined and being set to 0.0 in labels with no predicted samples. Use `zero_division` parameter to control this behavior.\n",
      "  _warn_prf(average, modifier, msg_start, len(result))\n",
      "c:\\Users\\Arnau\\AppData\\Local\\Programs\\Python\\Python311\\Lib\\site-packages\\sklearn\\metrics\\_classification.py:1344: UndefinedMetricWarning: Precision and F-score are ill-defined and being set to 0.0 in labels with no predicted samples. Use `zero_division` parameter to control this behavior.\n",
      "  _warn_prf(average, modifier, msg_start, len(result))\n",
      "c:\\Users\\Arnau\\AppData\\Local\\Programs\\Python\\Python311\\Lib\\site-packages\\sklearn\\metrics\\_classification.py:1344: UndefinedMetricWarning: Precision and F-score are ill-defined and being set to 0.0 in labels with no predicted samples. Use `zero_division` parameter to control this behavior.\n",
      "  _warn_prf(average, modifier, msg_start, len(result))\n",
      "c:\\Users\\Arnau\\AppData\\Local\\Programs\\Python\\Python311\\Lib\\site-packages\\sklearn\\ensemble\\_forest.py:424: FutureWarning: `max_features='auto'` has been deprecated in 1.1 and will be removed in 1.3. To keep the past behaviour, explicitly set `max_features='sqrt'` or remove this parameter as it is also the default value for RandomForestClassifiers and ExtraTreesClassifiers.\n",
      "  warn(\n"
     ]
    },
    {
     "name": "stdout",
     "output_type": "stream",
     "text": [
      "Best hyperparameters for Waist type: {'bootstrap': True, 'criterion': 'entropy', 'max_depth': 15, 'max_features': 'auto', 'min_samples_split': 5, 'n_estimators': 100}\n",
      "Accuracy for Waist type: 50.51%\n",
      "                precision    recall  f1-score   support\n",
      "\n",
      "            -1       0.78      0.44      0.56       397\n",
      "Ajustable/Goma       0.54      0.49      0.51       847\n",
      "    High Waist       0.47      0.38      0.42       619\n",
      "     Low Waist       1.00      0.03      0.07        88\n",
      " Regular Waist       0.46      0.67      0.54       985\n",
      "\n",
      "      accuracy                           0.51      2936\n",
      "     macro avg       0.65      0.40      0.42      2936\n",
      "  weighted avg       0.54      0.51      0.50      2936\n",
      "\n",
      "Training model for Woven structure...\n",
      "Fitting 3 folds for each of 2 candidates, totalling 6 fits\n"
     ]
    },
    {
     "name": "stderr",
     "output_type": "stream",
     "text": [
      "c:\\Users\\Arnau\\AppData\\Local\\Programs\\Python\\Python311\\Lib\\site-packages\\sklearn\\ensemble\\_forest.py:424: FutureWarning: `max_features='auto'` has been deprecated in 1.1 and will be removed in 1.3. To keep the past behaviour, explicitly set `max_features='sqrt'` or remove this parameter as it is also the default value for RandomForestClassifiers and ExtraTreesClassifiers.\n",
      "  warn(\n"
     ]
    },
    {
     "name": "stdout",
     "output_type": "stream",
     "text": [
      "Best hyperparameters for Woven structure: {'bootstrap': True, 'criterion': 'entropy', 'max_depth': 15, 'max_features': 'auto', 'min_samples_split': 5, 'n_estimators': 100}\n",
      "Accuracy for Woven structure: 61.72%\n",
      "              precision    recall  f1-score   support\n",
      "\n",
      "          -1       0.73      0.59      0.66       767\n",
      "    Elástico       0.00      0.00      0.00         2\n",
      "      Ligero       0.54      0.29      0.38       779\n",
      "       Medio       0.60      0.86      0.71      1309\n",
      "      Pesado       0.00      0.00      0.00        79\n",
      "\n",
      "    accuracy                           0.62      2936\n",
      "   macro avg       0.37      0.35      0.35      2936\n",
      "weighted avg       0.60      0.62      0.59      2936\n",
      "\n"
     ]
    },
    {
     "name": "stderr",
     "output_type": "stream",
     "text": [
      "c:\\Users\\Arnau\\AppData\\Local\\Programs\\Python\\Python311\\Lib\\site-packages\\sklearn\\metrics\\_classification.py:1344: UndefinedMetricWarning: Precision and F-score are ill-defined and being set to 0.0 in labels with no predicted samples. Use `zero_division` parameter to control this behavior.\n",
      "  _warn_prf(average, modifier, msg_start, len(result))\n",
      "c:\\Users\\Arnau\\AppData\\Local\\Programs\\Python\\Python311\\Lib\\site-packages\\sklearn\\metrics\\_classification.py:1344: UndefinedMetricWarning: Precision and F-score are ill-defined and being set to 0.0 in labels with no predicted samples. Use `zero_division` parameter to control this behavior.\n",
      "  _warn_prf(average, modifier, msg_start, len(result))\n",
      "c:\\Users\\Arnau\\AppData\\Local\\Programs\\Python\\Python311\\Lib\\site-packages\\sklearn\\metrics\\_classification.py:1344: UndefinedMetricWarning: Precision and F-score are ill-defined and being set to 0.0 in labels with no predicted samples. Use `zero_division` parameter to control this behavior.\n",
      "  _warn_prf(average, modifier, msg_start, len(result))\n"
     ]
    },
    {
     "name": "stdout",
     "output_type": "stream",
     "text": [
      "Combined Predictions:\n",
      "  silhouette_type length_type closure_placement knit_structure   \n",
      "0          Jogger    Standard                -1             -1  \\\n",
      "1              -1    Standard                -1             -1   \n",
      "2           Recto       Corto                -1             -1   \n",
      "3           Recto       Corto                -1             -1   \n",
      "4           Recto       Corto                -1             -1   \n",
      "\n",
      "       waist_type woven_structure  \n",
      "0   Regular Waist           Medio  \n",
      "1  Ajustable/Goma           Medio  \n",
      "2   Regular Waist           Medio  \n",
      "3  Ajustable/Goma           Medio  \n",
      "4   Regular Waist           Medio  \n"
     ]
    }
   ],
   "source": [
    "model_silhouette = train_and_evaluate(X_train, y_train_silhouette, X_val, y_val_silhouette, \"Silhouette type\")\n",
    "model_length = train_and_evaluate(X_train, y_train_length, X_val, y_val_length, \"Length type\")\n",
    "model_closure = train_and_evaluate(X_train, y_train_closure, X_val, y_val_closure, \"Closure placement\")\n",
    "model_knit = train_and_evaluate(X_train, y_train_knit, X_val, y_val_knit, \"Knit structure\")\n",
    "model_waist = train_and_evaluate(X_train, y_train_waist, X_val, y_val_waist, \"Waist type\")\n",
    "model_woven = train_and_evaluate(X_train, y_train_woven, X_val, y_val_woven, \"Woven structure\")\n",
    "\n",
    "\n",
    "pred_silhouette = model_silhouette.predict(X_val)\n",
    "pred_length = model_length.predict(X_val)\n",
    "pred_closure = model_closure.predict(X_val)\n",
    "pred_knit = model_knit.predict(X_val)\n",
    "pred_waist = model_waist.predict(X_val)\n",
    "pred_woven = model_woven.predict(X_val)\n",
    "\n",
    "predictions = pd.DataFrame({\n",
    "    'silhouette_type': pred_silhouette,\n",
    "    'length_type': pred_length,\n",
    "    'closure_placement': pred_closure,\n",
    "    'knit_structure': pred_knit,\n",
    "    'waist_type': pred_waist,\n",
    "    'woven_structure': pred_woven\n",
    "})\n",
    "\n",
    "\n",
    "print(\"Combined Predictions:\")\n",
    "print(predictions.head())"
   ]
  },
  {
   "cell_type": "code",
   "execution_count": 6,
   "metadata": {},
   "outputs": [
    {
     "data": {
      "text/plain": [
       "['./models/bottom/bottom_woven.joblib']"
      ]
     },
     "execution_count": 6,
     "metadata": {},
     "output_type": "execute_result"
    }
   ],
   "source": [
    "#save all models to ./models/bottom using joblib\n",
    "from joblib import dump\n",
    "dump(model_silhouette, './models/bottom/bottom_silhouette.joblib')\n",
    "dump(model_length, './models/bottom/bottom_length.joblib')\n",
    "dump(model_closure, './models/bottom/bottom_closure.joblib')\n",
    "dump(model_knit, './models/bottom/bottom_knit.joblib')\n",
    "dump(model_waist, './models/bottom/bottom_waist.joblib')\n",
    "dump(model_woven, './models/bottom/bottom_woven.joblib')\n"
   ]
  }
 ],
 "metadata": {
  "kernelspec": {
   "display_name": "Python 3",
   "language": "python",
   "name": "python3"
  },
  "language_info": {
   "codemirror_mode": {
    "name": "ipython",
    "version": 3
   },
   "file_extension": ".py",
   "mimetype": "text/x-python",
   "name": "python",
   "nbconvert_exporter": "python",
   "pygments_lexer": "ipython3",
   "version": "3.11.2"
  }
 },
 "nbformat": 4,
 "nbformat_minor": 2
}
